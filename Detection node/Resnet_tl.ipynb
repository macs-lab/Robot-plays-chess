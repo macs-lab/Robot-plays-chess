{
  "nbformat": 4,
  "nbformat_minor": 0,
  "metadata": {
    "colab": {
      "name": "Resnet_tl.ipynb",
      "provenance": [],
      "collapsed_sections": []
    },
    "kernelspec": {
      "name": "python3",
      "display_name": "Python 3"
    },
    "accelerator": "GPU",
    "widgets": {
      "application/vnd.jupyter.widget-state+json": {
        "924d72f3ffc14d79ba0aac2e2d1ac366": {
          "model_module": "@jupyter-widgets/controls",
          "model_name": "HBoxModel",
          "state": {
            "_view_name": "HBoxView",
            "_dom_classes": [],
            "_model_name": "HBoxModel",
            "_view_module": "@jupyter-widgets/controls",
            "_model_module_version": "1.5.0",
            "_view_count": null,
            "_view_module_version": "1.5.0",
            "box_style": "",
            "layout": "IPY_MODEL_8a0306024694405dbae0853260d28d8d",
            "_model_module": "@jupyter-widgets/controls",
            "children": [
              "IPY_MODEL_427fe5dce1db4a0c863905c5247dccda",
              "IPY_MODEL_c0a8e33dfb024edb80784140221c1cfa"
            ]
          }
        },
        "8a0306024694405dbae0853260d28d8d": {
          "model_module": "@jupyter-widgets/base",
          "model_name": "LayoutModel",
          "state": {
            "_view_name": "LayoutView",
            "grid_template_rows": null,
            "right": null,
            "justify_content": null,
            "_view_module": "@jupyter-widgets/base",
            "overflow": null,
            "_model_module_version": "1.2.0",
            "_view_count": null,
            "flex_flow": null,
            "width": null,
            "min_width": null,
            "border": null,
            "align_items": null,
            "bottom": null,
            "_model_module": "@jupyter-widgets/base",
            "top": null,
            "grid_column": null,
            "overflow_y": null,
            "overflow_x": null,
            "grid_auto_flow": null,
            "grid_area": null,
            "grid_template_columns": null,
            "flex": null,
            "_model_name": "LayoutModel",
            "justify_items": null,
            "grid_row": null,
            "max_height": null,
            "align_content": null,
            "visibility": null,
            "align_self": null,
            "height": null,
            "min_height": null,
            "padding": null,
            "grid_auto_rows": null,
            "grid_gap": null,
            "max_width": null,
            "order": null,
            "_view_module_version": "1.2.0",
            "grid_template_areas": null,
            "object_position": null,
            "object_fit": null,
            "grid_auto_columns": null,
            "margin": null,
            "display": null,
            "left": null
          }
        },
        "427fe5dce1db4a0c863905c5247dccda": {
          "model_module": "@jupyter-widgets/controls",
          "model_name": "FloatProgressModel",
          "state": {
            "_view_name": "ProgressView",
            "style": "IPY_MODEL_98fccb6a16524050a7b148ca034ce40c",
            "_dom_classes": [],
            "description": "100%",
            "_model_name": "FloatProgressModel",
            "bar_style": "success",
            "max": 102502400,
            "_view_module": "@jupyter-widgets/controls",
            "_model_module_version": "1.5.0",
            "value": 102502400,
            "_view_count": null,
            "_view_module_version": "1.5.0",
            "orientation": "horizontal",
            "min": 0,
            "description_tooltip": null,
            "_model_module": "@jupyter-widgets/controls",
            "layout": "IPY_MODEL_4cf90c8aa1124478a08c8d290028afad"
          }
        },
        "c0a8e33dfb024edb80784140221c1cfa": {
          "model_module": "@jupyter-widgets/controls",
          "model_name": "HTMLModel",
          "state": {
            "_view_name": "HTMLView",
            "style": "IPY_MODEL_bac9c4895366486784d8c7d6111ec890",
            "_dom_classes": [],
            "description": "",
            "_model_name": "HTMLModel",
            "placeholder": "​",
            "_view_module": "@jupyter-widgets/controls",
            "_model_module_version": "1.5.0",
            "value": " 97.8M/97.8M [03:32&lt;00:00, 483kB/s]",
            "_view_count": null,
            "_view_module_version": "1.5.0",
            "description_tooltip": null,
            "_model_module": "@jupyter-widgets/controls",
            "layout": "IPY_MODEL_aefa235682cd441f9558b525d97f03ba"
          }
        },
        "98fccb6a16524050a7b148ca034ce40c": {
          "model_module": "@jupyter-widgets/controls",
          "model_name": "ProgressStyleModel",
          "state": {
            "_view_name": "StyleView",
            "_model_name": "ProgressStyleModel",
            "description_width": "initial",
            "_view_module": "@jupyter-widgets/base",
            "_model_module_version": "1.5.0",
            "_view_count": null,
            "_view_module_version": "1.2.0",
            "bar_color": null,
            "_model_module": "@jupyter-widgets/controls"
          }
        },
        "4cf90c8aa1124478a08c8d290028afad": {
          "model_module": "@jupyter-widgets/base",
          "model_name": "LayoutModel",
          "state": {
            "_view_name": "LayoutView",
            "grid_template_rows": null,
            "right": null,
            "justify_content": null,
            "_view_module": "@jupyter-widgets/base",
            "overflow": null,
            "_model_module_version": "1.2.0",
            "_view_count": null,
            "flex_flow": null,
            "width": null,
            "min_width": null,
            "border": null,
            "align_items": null,
            "bottom": null,
            "_model_module": "@jupyter-widgets/base",
            "top": null,
            "grid_column": null,
            "overflow_y": null,
            "overflow_x": null,
            "grid_auto_flow": null,
            "grid_area": null,
            "grid_template_columns": null,
            "flex": null,
            "_model_name": "LayoutModel",
            "justify_items": null,
            "grid_row": null,
            "max_height": null,
            "align_content": null,
            "visibility": null,
            "align_self": null,
            "height": null,
            "min_height": null,
            "padding": null,
            "grid_auto_rows": null,
            "grid_gap": null,
            "max_width": null,
            "order": null,
            "_view_module_version": "1.2.0",
            "grid_template_areas": null,
            "object_position": null,
            "object_fit": null,
            "grid_auto_columns": null,
            "margin": null,
            "display": null,
            "left": null
          }
        },
        "bac9c4895366486784d8c7d6111ec890": {
          "model_module": "@jupyter-widgets/controls",
          "model_name": "DescriptionStyleModel",
          "state": {
            "_view_name": "StyleView",
            "_model_name": "DescriptionStyleModel",
            "description_width": "",
            "_view_module": "@jupyter-widgets/base",
            "_model_module_version": "1.5.0",
            "_view_count": null,
            "_view_module_version": "1.2.0",
            "_model_module": "@jupyter-widgets/controls"
          }
        },
        "aefa235682cd441f9558b525d97f03ba": {
          "model_module": "@jupyter-widgets/base",
          "model_name": "LayoutModel",
          "state": {
            "_view_name": "LayoutView",
            "grid_template_rows": null,
            "right": null,
            "justify_content": null,
            "_view_module": "@jupyter-widgets/base",
            "overflow": null,
            "_model_module_version": "1.2.0",
            "_view_count": null,
            "flex_flow": null,
            "width": null,
            "min_width": null,
            "border": null,
            "align_items": null,
            "bottom": null,
            "_model_module": "@jupyter-widgets/base",
            "top": null,
            "grid_column": null,
            "overflow_y": null,
            "overflow_x": null,
            "grid_auto_flow": null,
            "grid_area": null,
            "grid_template_columns": null,
            "flex": null,
            "_model_name": "LayoutModel",
            "justify_items": null,
            "grid_row": null,
            "max_height": null,
            "align_content": null,
            "visibility": null,
            "align_self": null,
            "height": null,
            "min_height": null,
            "padding": null,
            "grid_auto_rows": null,
            "grid_gap": null,
            "max_width": null,
            "order": null,
            "_view_module_version": "1.2.0",
            "grid_template_areas": null,
            "object_position": null,
            "object_fit": null,
            "grid_auto_columns": null,
            "margin": null,
            "display": null,
            "left": null
          }
        }
      }
    }
  },
  "cells": [
    {
      "cell_type": "code",
      "metadata": {
        "id": "z0PSJG1UpYJ8",
        "colab_type": "code",
        "colab": {}
      },
      "source": [
        "from __future__ import print_function, division\n",
        "\n",
        "import torch\n",
        "import torch.nn as nn\n",
        "import torch.optim as optim\n",
        "from torch.optim import lr_scheduler\n",
        "import numpy as np\n",
        "import torchvision\n",
        "from torchvision import datasets, models, transforms\n",
        "import matplotlib.pyplot as plt\n",
        "import time\n",
        "import os\n",
        "import copy"
      ],
      "execution_count": 1,
      "outputs": []
    },
    {
      "cell_type": "code",
      "metadata": {
        "id": "kNq8jBdrstKR",
        "colab_type": "code",
        "colab": {
          "base_uri": "https://localhost:8080/",
          "height": 34
        },
        "outputId": "b2a64a77-2fed-43d2-c256-3c8d6722210b"
      },
      "source": [
        "from google.colab import drive\n",
        "drive.mount('/content/gdrive')"
      ],
      "execution_count": 2,
      "outputs": [
        {
          "output_type": "stream",
          "text": [
            "Mounted at /content/gdrive\n"
          ],
          "name": "stdout"
        }
      ]
    },
    {
      "cell_type": "code",
      "metadata": {
        "id": "UwAsYOe3qC-X",
        "colab_type": "code",
        "colab": {}
      },
      "source": [
        "#load data from the shared drives to the colab\n",
        "data_transforms = {\n",
        "    'train': transforms.Compose([\n",
        "        transforms.Resize(256),\n",
        "        transforms.CenterCrop(224),\n",
        "        transforms.ToTensor(),\n",
        "        transforms.Normalize([0.485, 0.456, 0.406], [0.229, 0.224, 0.225])\n",
        "    ]),\n",
        "    'val': transforms.Compose([\n",
        "        transforms.Resize(256),\n",
        "        transforms.CenterCrop(224),\n",
        "        transforms.ToTensor(),\n",
        "        transforms.Normalize([0.485, 0.456, 0.406], [0.229, 0.224, 0.225])\n",
        "    ]),\n",
        "}\n",
        "\n",
        "data_dir = '/content/gdrive/Shared drives/MACS Independent Research/3-Projects/chess player robot'\n",
        "image_datasets = {x: datasets.ImageFolder(os.path.join(data_dir, x),\n",
        "                                          data_transforms[x])\n",
        "                  for x in ['train', 'val']}\n",
        "dataloaders = {x: torch.utils.data.DataLoader(image_datasets[x], batch_size=8,\n",
        "                                             shuffle=True, num_workers=4)\n",
        "              for x in ['train', 'val']}\n",
        "dataset_sizes = {x: len(image_datasets[x]) for x in ['train', 'val']}\n",
        "class_names = image_datasets['train'].classes\n",
        "\n",
        "device = torch.device(\"cuda:0\" if torch.cuda.is_available() else \"cpu\")"
      ],
      "execution_count": 3,
      "outputs": []
    },
    {
      "cell_type": "code",
      "metadata": {
        "id": "THKTg6jTsrmT",
        "colab_type": "code",
        "colab": {
          "base_uri": "https://localhost:8080/",
          "height": 106
        },
        "outputId": "a540a872-065e-4460-a557-6975683b41d9"
      },
      "source": [
        "#Get a batch of training data\n",
        "def imshow(inp, title=None):\n",
        "    \"\"\"Imshow for Tensor.\"\"\"\n",
        "    inp = inp.numpy().transpose((1, 2, 0))\n",
        "    mean = np.array([0.485, 0.456, 0.406])\n",
        "    std = np.array([0.229, 0.224, 0.225])\n",
        "    inp = std * inp + mean\n",
        "    inp = np.clip(inp, 0, 1)\n",
        "    plt.imshow(inp)\n",
        "    if title is not None:\n",
        "        plt.title(title)\n",
        "    plt.pause(0.001)  # pause a bit so that plots are updated\n",
        "\n",
        "\n",
        "\n",
        "inputs, classes = next(iter(dataloaders['train']))\n",
        "\n",
        "out = torchvision.utils.make_grid(inputs)\n",
        "\n",
        "imshow(out, title=[class_names[x] for x in classes])\n"
      ],
      "execution_count": 4,
      "outputs": [
        {
          "output_type": "display_data",
          "data": {
            "image/png": "[encoded data removed]",
            "text/plain": [
              "<Figure size 432x288 with 1 Axes>"
            ]
          },
          "metadata": {
            "tags": [],
            "needs_background": "light"
          }
        }
      ]
    },
    {
      "cell_type": "code",
      "metadata": {
        "id": "wsctVHZDwVnF",
        "colab_type": "code",
        "colab": {}
      },
      "source": [
        "#Define a function for executing the training\n",
        "def train_model(model, criterion, optimizer, scheduler, num_epochs=25):\n",
        "    since = time.time()\n",
        "\n",
        "    best_model_wts = copy.deepcopy(model.state_dict())\n",
        "    best_acc = 0.0\n",
        "\n",
        "    for epoch in range(num_epochs):\n",
        "        print('Epoch {}/{}'.format(epoch, num_epochs - 1))\n",
        "        print('-' * 10)\n",
        "\n",
        "        # Each epoch has a training and validation phase\n",
        "        for phase in ['train', 'val']:\n",
        "            if phase == 'train':\n",
        "                model.train()  # Set model to training mode\n",
        "            else:\n",
        "                model.eval()   # Set model to evaluate mode\n",
        "\n",
        "            running_loss = 0.0\n",
        "            running_corrects = 0\n",
        "\n",
        "            # Iterate over data.\n",
        "            for inputs, labels in dataloaders[phase]:\n",
        "                inputs = inputs.to(device)\n",
        "                labels = labels.to(device)\n",
        "\n",
        "                # zero the parameter gradients\n",
        "                optimizer.zero_grad()\n",
        "\n",
        "                # forward\n",
        "                # track history if only in train\n",
        "                with torch.set_grad_enabled(phase == 'train'):\n",
        "                    outputs = model(inputs)\n",
        "                    _, preds = torch.max(outputs, 1)\n",
        "                    loss = criterion(outputs, labels)\n",
        "\n",
        "                    # backward + optimize only if in training phase\n",
        "                    if phase == 'train':\n",
        "                        loss.backward()\n",
        "                        optimizer.step()\n",
        "\n",
        "                # statistics\n",
        "                running_loss += loss.item() * inputs.size(0)\n",
        "                running_corrects += torch.sum(preds == labels.data)\n",
        "            if phase == 'train':\n",
        "                scheduler.step()\n",
        "\n",
        "            epoch_loss = running_loss / dataset_sizes[phase]\n",
        "            epoch_acc = running_corrects.double() / dataset_sizes[phase]\n",
        "\n",
        "            print('{} Loss: {:.4f} Acc: {:.4f}'.format(\n",
        "                phase, epoch_loss, epoch_acc))\n",
        "\n",
        "            # deep copy the model\n",
        "            if phase == 'val' and epoch_acc > best_acc:\n",
        "                best_acc = epoch_acc\n",
        "                best_model_wts = copy.deepcopy(model.state_dict())\n",
        "\n",
        "        print()\n",
        "\n",
        "    time_elapsed = time.time() - since\n",
        "    print('Training complete in {:.0f}m {:.0f}s'.format(\n",
        "        time_elapsed // 60, time_elapsed % 60))\n",
        "    print('Best val Acc: {:4f}'.format(best_acc))\n",
        "\n",
        "    # load best model weights\n",
        "    model.load_state_dict(best_model_wts)\n",
        "    return model"
      ],
      "execution_count": 7,
      "outputs": []
    },
    {
      "cell_type": "code",
      "metadata": {
        "id": "uFbP0WZhdLpg",
        "colab_type": "code",
        "colab": {
          "base_uri": "https://localhost:8080/",
          "height": 103,
          "referenced_widgets": [
            "924d72f3ffc14d79ba0aac2e2d1ac366",
            "8a0306024694405dbae0853260d28d8d",
            "427fe5dce1db4a0c863905c5247dccda",
            "c0a8e33dfb024edb80784140221c1cfa",
            "98fccb6a16524050a7b148ca034ce40c",
            "4cf90c8aa1124478a08c8d290028afad",
            "bac9c4895366486784d8c7d6111ec890",
            "aefa235682cd441f9558b525d97f03ba"
          ]
        },
        "outputId": "c4492d3a-896e-41a5-a536-48eaf11a1c6b"
      },
      "source": [
        "#download the model and set the model only tune the fully connected layers\n",
        "model_ft = models.resnet50(pretrained=True)\n",
        "num_ftrs = model_ft.fc.in_features\n",
        "\n",
        "model_ft.fc = nn.Linear(num_ftrs, len(class_names))\n",
        "\n",
        "model_ft = model_ft.to(device)\n",
        "\n",
        "criterion = nn.CrossEntropyLoss()\n",
        "\n",
        "# Observe that all parameters are being optimized\n",
        "optimizer_ft = optim.SGD(model_ft.parameters(), lr=0.001, momentum=0.9)\n",
        "\n",
        "# Decay LR by a factor of 0.1 every 7 epochs\n",
        "exp_lr_scheduler = lr_scheduler.StepLR(optimizer_ft, step_size=7, gamma=0.1)"
      ],
      "execution_count": 5,
      "outputs": [
        {
          "output_type": "stream",
          "text": [
            "Downloading: \"https://download.pytorch.org/models/resnet50-19c8e357.pth\" to /root/.cache/torch/hub/checkpoints/resnet50-19c8e357.pth\n"
          ],
          "name": "stderr"
        },
        {
          "output_type": "display_data",
          "data": {
            "application/vnd.jupyter.widget-view+json": {
              "model_id": "924d72f3ffc14d79ba0aac2e2d1ac366",
              "version_minor": 0,
              "version_major": 2
            },
            "text/plain": [
              "HBox(children=(FloatProgress(value=0.0, max=102502400.0), HTML(value='')))"
            ]
          },
          "metadata": {
            "tags": []
          }
        },
        {
          "output_type": "stream",
          "text": [
            "\n"
          ],
          "name": "stdout"
        }
      ]
    },
    {
      "cell_type": "code",
      "metadata": {
        "id": "1ZxcocMDd6g1",
        "colab_type": "code",
        "colab": {
          "base_uri": "https://localhost:8080/",
          "height": 1000
        },
        "outputId": "519603fb-8b44-4b6b-cab4-d72a06257b1f"
      },
      "source": [
        "#train the model\n",
        "model_ft = train_model(model_ft, criterion, optimizer_ft, exp_lr_scheduler,\n",
        "                       num_epochs=25)"
      ],
      "execution_count": 8,
      "outputs": [
        {
          "output_type": "stream",
          "text": [
            "Epoch 0/24\n",
            "----------\n",
            "train Loss: 1.3715 Acc: 0.5274\n",
            "val Loss: 0.2226 Acc: 0.9231\n",
            "\n",
            "Epoch 1/24\n",
            "----------\n",
            "train Loss: 0.3599 Acc: 0.8930\n",
            "val Loss: 0.1148 Acc: 0.9615\n",
            "\n",
            "Epoch 2/24\n",
            "----------\n",
            "train Loss: 0.1953 Acc: 0.9425\n",
            "val Loss: 0.1159 Acc: 0.9744\n",
            "\n",
            "Epoch 3/24\n",
            "----------\n",
            "train Loss: 0.1577 Acc: 0.9584\n",
            "val Loss: 0.0051 Acc: 1.0000\n",
            "\n",
            "Epoch 4/24\n",
            "----------\n",
            "train Loss: 0.0802 Acc: 0.9797\n",
            "val Loss: 0.0250 Acc: 0.9872\n",
            "\n",
            "Epoch 5/24\n",
            "----------\n",
            "train Loss: 0.0749 Acc: 0.9810\n",
            "val Loss: 0.0018 Acc: 1.0000\n",
            "\n",
            "Epoch 6/24\n",
            "----------\n",
            "train Loss: 0.0522 Acc: 0.9867\n",
            "val Loss: 0.0013 Acc: 1.0000\n",
            "\n",
            "Epoch 7/24\n",
            "----------\n",
            "train Loss: 0.0236 Acc: 0.9938\n",
            "val Loss: 0.0010 Acc: 1.0000\n",
            "\n",
            "Epoch 8/24\n",
            "----------\n",
            "train Loss: 0.0200 Acc: 0.9973\n",
            "val Loss: 0.0006 Acc: 1.0000\n",
            "\n",
            "Epoch 9/24\n",
            "----------\n",
            "train Loss: 0.0185 Acc: 0.9969\n",
            "val Loss: 0.0010 Acc: 1.0000\n",
            "\n",
            "Epoch 10/24\n",
            "----------\n",
            "train Loss: 0.0177 Acc: 0.9973\n",
            "val Loss: 0.0005 Acc: 1.0000\n",
            "\n",
            "Epoch 11/24\n",
            "----------\n",
            "train Loss: 0.0144 Acc: 0.9987\n",
            "val Loss: 0.0005 Acc: 1.0000\n",
            "\n",
            "Epoch 12/24\n",
            "----------\n",
            "train Loss: 0.0114 Acc: 0.9991\n",
            "val Loss: 0.0005 Acc: 1.0000\n",
            "\n",
            "Epoch 13/24\n",
            "----------\n",
            "train Loss: 0.0150 Acc: 0.9991\n",
            "val Loss: 0.0004 Acc: 1.0000\n",
            "\n",
            "Epoch 14/24\n",
            "----------\n",
            "train Loss: 0.0129 Acc: 0.9982\n",
            "val Loss: 0.0004 Acc: 1.0000\n",
            "\n",
            "Epoch 15/24\n",
            "----------\n",
            "train Loss: 0.0108 Acc: 1.0000\n",
            "val Loss: 0.0004 Acc: 1.0000\n",
            "\n",
            "Epoch 16/24\n",
            "----------\n",
            "train Loss: 0.0146 Acc: 0.9982\n",
            "val Loss: 0.0003 Acc: 1.0000\n",
            "\n",
            "Epoch 17/24\n",
            "----------\n",
            "train Loss: 0.0098 Acc: 0.9991\n",
            "val Loss: 0.0004 Acc: 1.0000\n",
            "\n",
            "Epoch 18/24\n",
            "----------\n",
            "train Loss: 0.0132 Acc: 0.9991\n",
            "val Loss: 0.0004 Acc: 1.0000\n",
            "\n",
            "Epoch 19/24\n",
            "----------\n",
            "train Loss: 0.0126 Acc: 0.9991\n",
            "val Loss: 0.0004 Acc: 1.0000\n",
            "\n",
            "Epoch 20/24\n",
            "----------\n",
            "train Loss: 0.0085 Acc: 0.9996\n",
            "val Loss: 0.0004 Acc: 1.0000\n",
            "\n",
            "Epoch 21/24\n",
            "----------\n",
            "train Loss: 0.0100 Acc: 0.9996\n",
            "val Loss: 0.0004 Acc: 1.0000\n",
            "\n",
            "Epoch 22/24\n",
            "----------\n",
            "train Loss: 0.0120 Acc: 0.9991\n",
            "val Loss: 0.0004 Acc: 1.0000\n",
            "\n",
            "Epoch 23/24\n",
            "----------\n",
            "train Loss: 0.0164 Acc: 0.9969\n",
            "val Loss: 0.0005 Acc: 1.0000\n",
            "\n",
            "Epoch 24/24\n",
            "----------\n",
            "train Loss: 0.0124 Acc: 0.9987\n",
            "val Loss: 0.0004 Acc: 1.0000\n",
            "\n",
            "Training complete in 14m 57s\n",
            "Best val Acc: 1.000000\n"
          ],
          "name": "stdout"
        }
      ]
    },
    {
      "cell_type": "code",
      "metadata": {
        "id": "cOW0Jx21ICgX",
        "colab_type": "code",
        "colab": {}
      },
      "source": [
        "#view the model's prediction of the image in validation set \n",
        "def visualize_model(model, num_images=6):\n",
        "    was_training = model.training\n",
        "    model.eval()\n",
        "    images_so_far = 0\n",
        "    fig = plt.figure()\n",
        "\n",
        "    with torch.no_grad():\n",
        "        for i, (inputs, labels) in enumerate(dataloaders['val']):\n",
        "            inputs = inputs.to(device)\n",
        "            labels = labels.to(device)\n",
        "\n",
        "            outputs = model(inputs)\n",
        "            _, preds = torch.max(outputs, 1)\n",
        "\n",
        "            for j in range(inputs.size()[0]):\n",
        "                images_so_far += 1\n",
        "                ax = plt.subplot(num_images//2, 2, images_so_far)\n",
        "                ax.axis('off')\n",
        "                ax.set_title('predicted: {}'.format(class_names[preds[j]]))\n",
        "                imshow(inputs.cpu().data[j])\n",
        "\n",
        "                if images_so_far == num_images:\n",
        "                    model.train(mode=was_training)\n",
        "                    return\n",
        "        model.train(mode=was_training)"
      ],
      "execution_count": 9,
      "outputs": []
    },
    {
      "cell_type": "code",
      "metadata": {
        "id": "Wvfhu9WsgYCw",
        "colab_type": "code",
        "colab": {
          "base_uri": "https://localhost:8080/",
          "height": 581
        },
        "outputId": "265aa408-3530-4066-bd80-bf327401c3c0"
      },
      "source": [
        "visualize_model(model_ft)"
      ],
      "execution_count": 29,
      "outputs": [
        {
          "output_type": "display_data",
          "data": {
            "image/png": "[encoded data removed]",
            "text/plain": [
              "<Figure size 432x288 with 1 Axes>"
            ]
          },
          "metadata": {
            "tags": [],
            "needs_background": "light"
          }
        },
        {
          "output_type": "display_data",
          "data": {
            "image/png": "[encoded data removed]",
            "text/plain": [
              "<Figure size 432x288 with 1 Axes>"
            ]
          },
          "metadata": {
            "tags": [],
            "needs_background": "light"
          }
        },
        {
          "output_type": "display_data",
          "data": {
            "image/png": "[encoded data removed]",
            "text/plain": [
              "<Figure size 432x288 with 1 Axes>"
            ]
          },
          "metadata": {
            "tags": [],
            "needs_background": "light"
          }
        },
        {
          "output_type": "display_data",
          "data": {
            "image/png": "[encoded data removed]",
            "text/plain": [
              "<Figure size 432x288 with 1 Axes>"
            ]
          },
          "metadata": {
            "tags": [],
            "needs_background": "light"
          }
        },
        {
          "output_type": "display_data",
          "data": {
            "image/png": "[encoded data removed]",
            "text/plain": [
              "<Figure size 432x288 with 1 Axes>"
            ]
          },
          "metadata": {
            "tags": [],
            "needs_background": "light"
          }
        },
        {
          "output_type": "display_data",
          "data": {
            "image/png": "[encoded data removed]",
            "text/plain": [
              "<Figure size 432x288 with 1 Axes>"
            ]
          },
          "metadata": {
            "tags": [],
            "needs_background": "light"
          }
        }
      ]
    },
    {
      "cell_type": "code",
      "metadata": {
        "id": "dfk7lZSnQhlj",
        "colab_type": "code",
        "colab": {
          "base_uri": "https://localhost:8080/",
          "height": 71
        },
        "outputId": "957829fe-6603-471b-a022-97c9483b2262"
      },
      "source": [
        "%cd /content/gdrive/Shared drives/MACS Independent Research/3-Projects/chess player robot/Testing\n",
        "%ls"
      ],
      "execution_count": 13,
      "outputs": [
        {
          "output_type": "stream",
          "text": [
            "/content/gdrive/Shared drives/MACS Independent Research/3-Projects/chess player robot/Testing\n",
            "start.png  state1.png  state2.png  state3.png  state4.png\n"
          ],
          "name": "stdout"
        }
      ]
    },
    {
      "cell_type": "code",
      "metadata": {
        "id": "3BFGGIC4RYWq",
        "colab_type": "code",
        "colab": {}
      },
      "source": [
        "square = {'H8': (572, 642, 373, 441), 'H7': (628, 698, 373, 441), 'H6': (684, 753, 373, 441), 'H5': (739, 805, 373, 441), 'H4': (791, 865, 373, 441), 'H3': (851, 921, 373, 441), 'H2': (907, 977, 373, 441), 'H1': (963, 1031, 373, 441), 'G8': (572, 642, 426, 497), 'G7': (628, 698, 426, 497), 'G6': (684, 753, 426, 497), 'G5': (739, 805, 426, 497), 'G4': (791, 865, 426, 497), 'G3': (851, 921, 426, 497), 'G2': (907, 977, 426, 497), 'G1': (963, 1031, 426, 497), 'F8': (572, 642, 482, 552), 'F7': (628, 698, 482, 552), 'F6': (684, 753, 482, 552), 'F5': (739, 805, 482, 552), 'F4': (791, 865, 482, 552), 'F3': (851, 921, 482, 552), 'F2': (907, 977, 482, 552), 'F1': (963, 1031, 482, 552), 'E8': (572, 642, 538, 604), 'E7': (628, 698, 538, 604), 'E6': (684, 753, 538, 604), 'E5': (739, 805, 538, 604), 'E4': (791, 865, 538, 604), 'E3': (851, 921, 538, 604), 'E2': (907, 977, 538, 604), 'E1': (963, 1031, 538, 604), 'D8': (572, 642, 594, 664), 'D7': (628, 698, 594, 664), 'D6': (684, 753, 594, 664), 'D5': (739, 805, 594, 664), 'D4': (791, 865, 594, 664), 'D3': (851, 921, 594, 664), 'D2': (907, 977, 594, 664), 'D1': (963, 1031, 594, 664), 'C8': (572, 642, 648, 720), 'C7': (628, 698, 648, 720), 'C6': (684, 753, 648, 720), 'C5': (739, 805, 648, 720), 'C4': (791, 865, 648, 720), 'C3': (851, 921, 648, 720), 'C2': (907, 977, 648, 720), 'C1': (963, 1031, 648, 720), 'B8': (572, 642, 703, 776), 'B7': (628, 698, 703, 776), 'B6': (684, 753, 703, 776), 'B5': (739, 805, 703, 776), 'B4': (791, 865, 703, 776), 'B3': (851, 921, 703, 776), 'B2': (907, 977, 703, 776), 'B1': (963, 1031, 703, 776), 'A8': (572, 642, 761, 830), 'A7': (628, 698, 761, 830), 'A6': (684, 753, 761, 830), 'A5': (739, 805, 761, 830), 'A4': (791, 865, 761, 830), 'A3': (851, 921, 761, 830), 'A2': (907, 977, 761, 830), 'A1': (963, 1031, 761, 830)}\n"
      ],
      "execution_count": 14,
      "outputs": []
    },
    {
      "cell_type": "code",
      "metadata": {
        "id": "HFPhiq8ER8La",
        "colab_type": "code",
        "colab": {}
      },
      "source": [
        "processing = transforms.Compose([\n",
        "        transforms.ToPILImage(),\n",
        "        transforms.Resize(224),\n",
        "        transforms.ToTensor(),\n",
        "        transforms.Normalize([0.485, 0.456, 0.406], [0.229, 0.224, 0.225])\n",
        "    ])"
      ],
      "execution_count": 15,
      "outputs": []
    },
    {
      "cell_type": "code",
      "metadata": {
        "id": "CLG3USl5RULf",
        "colab_type": "code",
        "colab": {
          "base_uri": "https://localhost:8080/",
          "height": 153
        },
        "outputId": "d29efce1-3b35-4485-e3bf-92239fbc3460"
      },
      "source": [
        "import cv2\n",
        "\n",
        "class_names = ['B', 'K', 'N', 'P', 'Q', 'R', '_', 'b', 'k', 'n', 'p', 'q', 'r']\n",
        "chessboard = np.zeros((8,8),dtype=str)\n",
        "col = {'A':0,'B':1,'C':2,'D':3,'E':4,'F':5,'G':6,'H':7}\n",
        "row = {'1':7,'2':6,'3':5,'4':4,'5':3,'6':2,'7':1,'8':0}\n",
        "\n",
        "image = cv2.imread('start.png',1)\n",
        "image = cv2.cvtColor(image,cv2.COLOR_RGB2BGR)\n",
        "count = 0\n",
        "for key,value in square.items():\n",
        "  if count < 32:\n",
        "    y1,y2,x1,x2 = value\n",
        "    img = image[x1:x2,y1:y2,:]\n",
        "    img_tt = processing(img)\n",
        "    inputs = torch.stack((img_tt,img_tt,img_tt,img_tt),0)\n",
        "    inputs = inputs.to(device)\n",
        "    outputs = model_ft(inputs)\n",
        "    _, preds = torch.max(outputs,1)\n",
        "    chessboard[row[key[1]],col[key[0]]] = class_names[preds[0]]\n",
        "    \n",
        "print(chessboard)\n",
        "\n"
      ],
      "execution_count": 28,
      "outputs": [
        {
          "output_type": "stream",
          "text": [
            "[['r' 'n' 'b' 'q' 'q' 'b' 'n' 'r']\n",
            " ['b' 'p' 'p' 'p' 'p' 'p' 'p' 'p']\n",
            " ['_' '_' '_' '_' '_' '_' '_' '_']\n",
            " ['_' '_' '_' '_' '_' '_' '_' '_']\n",
            " ['_' '_' '_' '_' '_' '_' '_' '_']\n",
            " ['_' '_' '_' '_' '_' '_' '_' '_']\n",
            " ['B' 'P' 'P' 'B' 'P' 'P' 'B' 'P']\n",
            " ['R' 'N' 'B' 'Q' 'K' 'B' 'N' 'R']]\n"
          ],
          "name": "stdout"
        }
      ]
    }
  ]
}